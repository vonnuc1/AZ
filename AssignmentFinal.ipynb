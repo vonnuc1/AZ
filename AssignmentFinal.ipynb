{
 "cells": [
  {
   "attachments": {},
   "cell_type": "markdown",
   "metadata": {},
   "source": [
    "## Assignment A - OpenFDA Query to Get AZ Drugs and Avg Ingredients per Year\n",
    "The assignment is described as follows:\n",
    "\n",
    "Using the data from the OpenFDA API (documentation at https://open.fda.gov/apis/drug/label/) to determine the average number of ingredients (spl_product_data_elements) contained in AstraZeneca medicines per year.\n",
    "\n",
    "Starting with having a look at the API and making some calls in the browser. After some initial exploration, + having had a look at the xml file of categories available, I settle on: https://api.fda.gov/drug/label.json?search=openfda.brand_name=AstraZeneca+AND+_exists_:openfda.generic_name&limit=99\n",
    "- brand_name=Astrazeneca because only interested in AZ drugs\n",
    "- _exists_:openfda.generic_name because the drug name field must be populated (for achieving second column in assignment description)\n",
    "- limit=99 because unless specified only 1 hit is returned\n",
    "\n",
    "count=spl_product_data_elements.exact is not included in the query. I'll explain why further down.\n",
    "\n",
    "Ready to start. Importing relevant files:"
   ]
  },
  {
   "cell_type": "code",
   "execution_count": 1,
   "metadata": {},
   "outputs": [],
   "source": [
    "import json\n",
    "import urllib\n",
    "import pandas as pd \n",
    "from pandas.io.json import json_normalize #for flattening json files -> pandas df"
   ]
  },
  {
   "cell_type": "code",
   "execution_count": 2,
   "metadata": {},
   "outputs": [],
   "source": [
    "#load json object from url\n",
    "with urllib.request.urlopen('https://api.fda.gov/drug/label.json?search=openfda.brand_name=AstraZeneca'+\\\n",
    "                            '+AND+_exists_:openfda.generic_name&limit=99') as url:\n",
    "    data = json.loads(url.read().decode()) #data to python dict"
   ]
  },
  {
   "cell_type": "code",
   "execution_count": 3,
   "metadata": {},
   "outputs": [
    {
     "data": {
      "text/plain": [
       "303"
      ]
     },
     "execution_count": 3,
     "metadata": {},
     "output_type": "execute_result"
    }
   ],
   "source": [
    "#total nr of hits for the search above\n",
    "total_hits = data['meta']['results']['total']\n",
    "total_hits"
   ]
  },
  {
   "cell_type": "markdown",
   "metadata": {},
   "source": [
    "To gather all relevant data, I iterate to get data where there is a drug name and brand name is AZ, which should be 303 hits as seen above. I'll later use the effective_time field to split the data by date."
   ]
  },
  {
   "cell_type": "code",
   "execution_count": 4,
   "metadata": {},
   "outputs": [
    {
     "name": "stdout",
     "output_type": "stream",
     "text": [
      "<class 'pandas.core.frame.DataFrame'>\n",
      "RangeIndex: 303 entries, 0 to 302\n",
      "Columns: 109 entries, abuse to precautions_table\n",
      "dtypes: object(109)\n",
      "memory usage: 258.1+ KB\n"
     ]
    }
   ],
   "source": [
    "#need to iterate so that all data is there, the number of times is as follows:\n",
    "times = total_hits//data['meta']['results']['limit'] + 1 #times divided plus 1 extra to get the rest\n",
    "data_list = [] #list to hold the dfs from each iteration to concat later\n",
    "for i in range(times):\n",
    "    with urllib.request.urlopen('https://api.fda.gov/drug/label.json?search=openfda.brand_name=AstraZeneca'+\\\n",
    "                                '+AND+_exists_:openfda.generic_name&skip='+str(i*99)+'&limit=99') as url:\n",
    "        search_results = json.loads(url.read().decode())\n",
    "        data_list.append(json_normalize(search_results['results']))#turn json into df and append to data_list\n",
    "\n",
    "df = pd.concat(data_list, ignore_index=True, sort=False)\n",
    "df.info() #quick look to see the numbers are right"
   ]
  },
  {
   "cell_type": "markdown",
   "metadata": {},
   "source": [
    "Looks like the data is right; 303 rows. Number of columns a bit excessive; might be an issue there but won't prioritize investigation. Now I only need a few columns to be able to achieve the format specified in the assignment + other formatting to  remove drug name duplicates, remove dates (keep year), sort and aggregate data. Assumption: generic_name duplicates are the same drug despite some potential differences (concentration of API/delivery method etc)."
   ]
  },
  {
   "cell_type": "code",
   "execution_count": 5,
   "metadata": {},
   "outputs": [
    {
     "data": {
      "text/html": [
       "<div>\n",
       "<style scoped>\n",
       "    .dataframe tbody tr th:only-of-type {\n",
       "        vertical-align: middle;\n",
       "    }\n",
       "\n",
       "    .dataframe tbody tr th {\n",
       "        vertical-align: top;\n",
       "    }\n",
       "\n",
       "    .dataframe thead th {\n",
       "        text-align: right;\n",
       "    }\n",
       "</style>\n",
       "<table border=\"1\" class=\"dataframe\">\n",
       "  <thead>\n",
       "    <tr style=\"text-align: right;\">\n",
       "      <th></th>\n",
       "      <th>effective_time</th>\n",
       "      <th>openfda.generic_name</th>\n",
       "      <th>spl_product_data_elements</th>\n",
       "    </tr>\n",
       "  </thead>\n",
       "  <tbody>\n",
       "    <tr>\n",
       "      <th>0</th>\n",
       "      <td>20180615</td>\n",
       "      <td>[DAPAGLIFLOZIN]</td>\n",
       "      <td>[FARXIGA DAPAGLIFLOZIN DAPAGLIFLOZIN PROPANEDI...</td>\n",
       "    </tr>\n",
       "    <tr>\n",
       "      <th>1</th>\n",
       "      <td>20090706</td>\n",
       "      <td>[BICALUTAMIDE]</td>\n",
       "      <td>[Bicalutamide Bicalutamide BICALUTAMIDE BICALU...</td>\n",
       "    </tr>\n",
       "    <tr>\n",
       "      <th>2</th>\n",
       "      <td>20171101</td>\n",
       "      <td>[BICALUTAMIDE]</td>\n",
       "      <td>[CASODEX Bicalutamide BICALUTAMIDE BICALUTAMID...</td>\n",
       "    </tr>\n",
       "    <tr>\n",
       "      <th>3</th>\n",
       "      <td>20180609</td>\n",
       "      <td>[CLOPIDOGREL]</td>\n",
       "      <td>[clopidogrel clopidogrel CLOPIDOGREL BISULFATE...</td>\n",
       "    </tr>\n",
       "    <tr>\n",
       "      <th>4</th>\n",
       "      <td>20181129</td>\n",
       "      <td>[QUETIAPINE FUMARATE]</td>\n",
       "      <td>[SEROQUEL Quetiapine fumarate QUETIAPINE FUMAR...</td>\n",
       "    </tr>\n",
       "  </tbody>\n",
       "</table>\n",
       "</div>"
      ],
      "text/plain": [
       "  effective_time   openfda.generic_name  \\\n",
       "0       20180615        [DAPAGLIFLOZIN]   \n",
       "1       20090706         [BICALUTAMIDE]   \n",
       "2       20171101         [BICALUTAMIDE]   \n",
       "3       20180609          [CLOPIDOGREL]   \n",
       "4       20181129  [QUETIAPINE FUMARATE]   \n",
       "\n",
       "                           spl_product_data_elements  \n",
       "0  [FARXIGA DAPAGLIFLOZIN DAPAGLIFLOZIN PROPANEDI...  \n",
       "1  [Bicalutamide Bicalutamide BICALUTAMIDE BICALU...  \n",
       "2  [CASODEX Bicalutamide BICALUTAMIDE BICALUTAMID...  \n",
       "3  [clopidogrel clopidogrel CLOPIDOGREL BISULFATE...  \n",
       "4  [SEROQUEL Quetiapine fumarate QUETIAPINE FUMAR...  "
      ]
     },
     "execution_count": 5,
     "metadata": {},
     "output_type": "execute_result"
    }
   ],
   "source": [
    "#only need effective_date, generic_name and spl_product_data_elements:\n",
    "df = df[['effective_time', 'openfda.generic_name', 'spl_product_data_elements']] #won't need the other columns; overwrite\n",
    "df.head()"
   ]
  },
  {
   "cell_type": "code",
   "execution_count": 6,
   "metadata": {},
   "outputs": [
    {
     "data": {
      "text/html": [
       "<div>\n",
       "<style scoped>\n",
       "    .dataframe tbody tr th:only-of-type {\n",
       "        vertical-align: middle;\n",
       "    }\n",
       "\n",
       "    .dataframe tbody tr th {\n",
       "        vertical-align: top;\n",
       "    }\n",
       "\n",
       "    .dataframe thead th {\n",
       "        text-align: right;\n",
       "    }\n",
       "</style>\n",
       "<table border=\"1\" class=\"dataframe\">\n",
       "  <thead>\n",
       "    <tr style=\"text-align: right;\">\n",
       "      <th></th>\n",
       "      <th>effective_time</th>\n",
       "      <th>openfda.generic_name</th>\n",
       "      <th>spl_product_data_elements</th>\n",
       "    </tr>\n",
       "  </thead>\n",
       "  <tbody>\n",
       "    <tr>\n",
       "      <th>0</th>\n",
       "      <td>2018</td>\n",
       "      <td>[DAPAGLIFLOZIN]</td>\n",
       "      <td>[FARXIGA DAPAGLIFLOZIN DAPAGLIFLOZIN PROPANEDI...</td>\n",
       "    </tr>\n",
       "    <tr>\n",
       "      <th>1</th>\n",
       "      <td>2009</td>\n",
       "      <td>[BICALUTAMIDE]</td>\n",
       "      <td>[Bicalutamide Bicalutamide BICALUTAMIDE BICALU...</td>\n",
       "    </tr>\n",
       "    <tr>\n",
       "      <th>2</th>\n",
       "      <td>2017</td>\n",
       "      <td>[BICALUTAMIDE]</td>\n",
       "      <td>[CASODEX Bicalutamide BICALUTAMIDE BICALUTAMID...</td>\n",
       "    </tr>\n",
       "    <tr>\n",
       "      <th>3</th>\n",
       "      <td>2018</td>\n",
       "      <td>[CLOPIDOGREL]</td>\n",
       "      <td>[clopidogrel clopidogrel CLOPIDOGREL BISULFATE...</td>\n",
       "    </tr>\n",
       "    <tr>\n",
       "      <th>4</th>\n",
       "      <td>2018</td>\n",
       "      <td>[QUETIAPINE FUMARATE]</td>\n",
       "      <td>[SEROQUEL Quetiapine fumarate QUETIAPINE FUMAR...</td>\n",
       "    </tr>\n",
       "  </tbody>\n",
       "</table>\n",
       "</div>"
      ],
      "text/plain": [
       "  effective_time   openfda.generic_name  \\\n",
       "0           2018        [DAPAGLIFLOZIN]   \n",
       "1           2009         [BICALUTAMIDE]   \n",
       "2           2017         [BICALUTAMIDE]   \n",
       "3           2018          [CLOPIDOGREL]   \n",
       "4           2018  [QUETIAPINE FUMARATE]   \n",
       "\n",
       "                           spl_product_data_elements  \n",
       "0  [FARXIGA DAPAGLIFLOZIN DAPAGLIFLOZIN PROPANEDI...  \n",
       "1  [Bicalutamide Bicalutamide BICALUTAMIDE BICALU...  \n",
       "2  [CASODEX Bicalutamide BICALUTAMIDE BICALUTAMID...  \n",
       "3  [clopidogrel clopidogrel CLOPIDOGREL BISULFATE...  \n",
       "4  [SEROQUEL Quetiapine fumarate QUETIAPINE FUMAR...  "
      ]
     },
     "execution_count": 6,
     "metadata": {},
     "output_type": "execute_result"
    }
   ],
   "source": [
    "#slice dates: all years are at beginning and 4 chars long\n",
    "df['effective_time']=df['effective_time'].str.slice(0,4)\n",
    "df.head()"
   ]
  },
  {
   "cell_type": "code",
   "execution_count": 7,
   "metadata": {},
   "outputs": [
    {
     "data": {
      "text/html": [
       "<div>\n",
       "<style scoped>\n",
       "    .dataframe tbody tr th:only-of-type {\n",
       "        vertical-align: middle;\n",
       "    }\n",
       "\n",
       "    .dataframe tbody tr th {\n",
       "        vertical-align: top;\n",
       "    }\n",
       "\n",
       "    .dataframe thead th {\n",
       "        text-align: right;\n",
       "    }\n",
       "</style>\n",
       "<table border=\"1\" class=\"dataframe\">\n",
       "  <thead>\n",
       "    <tr style=\"text-align: right;\">\n",
       "      <th></th>\n",
       "      <th>effective_time</th>\n",
       "      <th>openfda.generic_name</th>\n",
       "      <th>spl_product_data_elements</th>\n",
       "    </tr>\n",
       "  </thead>\n",
       "  <tbody>\n",
       "    <tr>\n",
       "      <th>0</th>\n",
       "      <td>2018</td>\n",
       "      <td>DAPAGLIFLOZIN</td>\n",
       "      <td>FARXIGA DAPAGLIFLOZIN DAPAGLIFLOZIN PROPANEDIO...</td>\n",
       "    </tr>\n",
       "    <tr>\n",
       "      <th>1</th>\n",
       "      <td>2009</td>\n",
       "      <td>BICALUTAMIDE</td>\n",
       "      <td>Bicalutamide Bicalutamide BICALUTAMIDE BICALUT...</td>\n",
       "    </tr>\n",
       "    <tr>\n",
       "      <th>2</th>\n",
       "      <td>2017</td>\n",
       "      <td>BICALUTAMIDE</td>\n",
       "      <td>CASODEX Bicalutamide BICALUTAMIDE BICALUTAMIDE...</td>\n",
       "    </tr>\n",
       "    <tr>\n",
       "      <th>3</th>\n",
       "      <td>2018</td>\n",
       "      <td>CLOPIDOGREL</td>\n",
       "      <td>clopidogrel clopidogrel CLOPIDOGREL BISULFATE ...</td>\n",
       "    </tr>\n",
       "    <tr>\n",
       "      <th>4</th>\n",
       "      <td>2018</td>\n",
       "      <td>QUETIAPINE FUMARATE</td>\n",
       "      <td>SEROQUEL Quetiapine fumarate QUETIAPINE FUMARA...</td>\n",
       "    </tr>\n",
       "  </tbody>\n",
       "</table>\n",
       "</div>"
      ],
      "text/plain": [
       "  effective_time openfda.generic_name  \\\n",
       "0           2018        DAPAGLIFLOZIN   \n",
       "1           2009         BICALUTAMIDE   \n",
       "2           2017         BICALUTAMIDE   \n",
       "3           2018          CLOPIDOGREL   \n",
       "4           2018  QUETIAPINE FUMARATE   \n",
       "\n",
       "                           spl_product_data_elements  \n",
       "0  FARXIGA DAPAGLIFLOZIN DAPAGLIFLOZIN PROPANEDIO...  \n",
       "1  Bicalutamide Bicalutamide BICALUTAMIDE BICALUT...  \n",
       "2  CASODEX Bicalutamide BICALUTAMIDE BICALUTAMIDE...  \n",
       "3  clopidogrel clopidogrel CLOPIDOGREL BISULFATE ...  \n",
       "4  SEROQUEL Quetiapine fumarate QUETIAPINE FUMARA...  "
      ]
     },
     "execution_count": 7,
     "metadata": {},
     "output_type": "execute_result"
    }
   ],
   "source": [
    "#removing list format from other columns\n",
    "df['openfda.generic_name'] = df['openfda.generic_name'].str[0]\n",
    "df['spl_product_data_elements'] = df['spl_product_data_elements'].str[0]\n",
    "df.head()"
   ]
  },
  {
   "cell_type": "code",
   "execution_count": 8,
   "metadata": {},
   "outputs": [
    {
     "data": {
      "text/html": [
       "<div>\n",
       "<style scoped>\n",
       "    .dataframe tbody tr th:only-of-type {\n",
       "        vertical-align: middle;\n",
       "    }\n",
       "\n",
       "    .dataframe tbody tr th {\n",
       "        vertical-align: top;\n",
       "    }\n",
       "\n",
       "    .dataframe thead th {\n",
       "        text-align: right;\n",
       "    }\n",
       "</style>\n",
       "<table border=\"1\" class=\"dataframe\">\n",
       "  <thead>\n",
       "    <tr style=\"text-align: right;\">\n",
       "      <th></th>\n",
       "      <th>effective_time</th>\n",
       "      <th>openfda.generic_name</th>\n",
       "      <th>spl_product_data_elements</th>\n",
       "    </tr>\n",
       "  </thead>\n",
       "  <tbody>\n",
       "    <tr>\n",
       "      <th>0</th>\n",
       "      <td>2018</td>\n",
       "      <td>DAPAGLIFLOZIN</td>\n",
       "      <td>FARXIGA DAPAGLIFLOZIN DAPAGLIFLOZIN PROPANEDIO...</td>\n",
       "    </tr>\n",
       "    <tr>\n",
       "      <th>1</th>\n",
       "      <td>2009</td>\n",
       "      <td>BICALUTAMIDE</td>\n",
       "      <td>Bicalutamide Bicalutamide BICALUTAMIDE BICALUT...</td>\n",
       "    </tr>\n",
       "    <tr>\n",
       "      <th>3</th>\n",
       "      <td>2018</td>\n",
       "      <td>CLOPIDOGREL</td>\n",
       "      <td>clopidogrel clopidogrel CLOPIDOGREL BISULFATE ...</td>\n",
       "    </tr>\n",
       "    <tr>\n",
       "      <th>4</th>\n",
       "      <td>2018</td>\n",
       "      <td>QUETIAPINE FUMARATE</td>\n",
       "      <td>SEROQUEL Quetiapine fumarate QUETIAPINE FUMARA...</td>\n",
       "    </tr>\n",
       "    <tr>\n",
       "      <th>5</th>\n",
       "      <td>2017</td>\n",
       "      <td>ANASTROZOLE</td>\n",
       "      <td>Anastrozole Anastrozole ANASTROZOLE ANASTROZOL...</td>\n",
       "    </tr>\n",
       "    <tr>\n",
       "      <th>6</th>\n",
       "      <td>2011</td>\n",
       "      <td>BUDESONIDE</td>\n",
       "      <td>PULMICORTFLEXHALER Budesonide BUDESONIDE BUDES...</td>\n",
       "    </tr>\n",
       "    <tr>\n",
       "      <th>7</th>\n",
       "      <td>2013</td>\n",
       "      <td>CANDESARTAN CILEXETIL AND HYDROCHLOROTHIAZIDE</td>\n",
       "      <td>ATACAND HCT Candesartan cilexetil and Hydrochl...</td>\n",
       "    </tr>\n",
       "    <tr>\n",
       "      <th>8</th>\n",
       "      <td>2018</td>\n",
       "      <td>LISINOPRIL AND HYDROCHLOROTHIAZIDE</td>\n",
       "      <td>Zestoretic lisinopril and hydrochlorothiazide ...</td>\n",
       "    </tr>\n",
       "    <tr>\n",
       "      <th>9</th>\n",
       "      <td>2018</td>\n",
       "      <td>CLOPIDOGREL BISULFATE</td>\n",
       "      <td>clopidogrel bisulfate clopidogrel bisulfate HY...</td>\n",
       "    </tr>\n",
       "    <tr>\n",
       "      <th>11</th>\n",
       "      <td>2018</td>\n",
       "      <td>METOPROLOL SUCCINATE</td>\n",
       "      <td>Metoprolol succinate Metoprolol succinate ACET...</td>\n",
       "    </tr>\n",
       "  </tbody>\n",
       "</table>\n",
       "</div>"
      ],
      "text/plain": [
       "   effective_time                           openfda.generic_name  \\\n",
       "0            2018                                  DAPAGLIFLOZIN   \n",
       "1            2009                                   BICALUTAMIDE   \n",
       "3            2018                                    CLOPIDOGREL   \n",
       "4            2018                            QUETIAPINE FUMARATE   \n",
       "5            2017                                    ANASTROZOLE   \n",
       "6            2011                                     BUDESONIDE   \n",
       "7            2013  CANDESARTAN CILEXETIL AND HYDROCHLOROTHIAZIDE   \n",
       "8            2018             LISINOPRIL AND HYDROCHLOROTHIAZIDE   \n",
       "9            2018                          CLOPIDOGREL BISULFATE   \n",
       "11           2018                           METOPROLOL SUCCINATE   \n",
       "\n",
       "                            spl_product_data_elements  \n",
       "0   FARXIGA DAPAGLIFLOZIN DAPAGLIFLOZIN PROPANEDIO...  \n",
       "1   Bicalutamide Bicalutamide BICALUTAMIDE BICALUT...  \n",
       "3   clopidogrel clopidogrel CLOPIDOGREL BISULFATE ...  \n",
       "4   SEROQUEL Quetiapine fumarate QUETIAPINE FUMARA...  \n",
       "5   Anastrozole Anastrozole ANASTROZOLE ANASTROZOL...  \n",
       "6   PULMICORTFLEXHALER Budesonide BUDESONIDE BUDES...  \n",
       "7   ATACAND HCT Candesartan cilexetil and Hydrochl...  \n",
       "8   Zestoretic lisinopril and hydrochlorothiazide ...  \n",
       "9   clopidogrel bisulfate clopidogrel bisulfate HY...  \n",
       "11  Metoprolol succinate Metoprolol succinate ACET...  "
      ]
     },
     "execution_count": 8,
     "metadata": {},
     "output_type": "execute_result"
    }
   ],
   "source": [
    "#remove duplicates in the openfda.generic_name column\n",
    "df = df.drop_duplicates(['openfda.generic_name'], keep='first')\n",
    "df.head(10)"
   ]
  },
  {
   "cell_type": "code",
   "execution_count": 9,
   "metadata": {},
   "outputs": [
    {
     "data": {
      "text/html": [
       "<div>\n",
       "<style scoped>\n",
       "    .dataframe tbody tr th:only-of-type {\n",
       "        vertical-align: middle;\n",
       "    }\n",
       "\n",
       "    .dataframe tbody tr th {\n",
       "        vertical-align: top;\n",
       "    }\n",
       "\n",
       "    .dataframe thead th {\n",
       "        text-align: right;\n",
       "    }\n",
       "</style>\n",
       "<table border=\"1\" class=\"dataframe\">\n",
       "  <thead>\n",
       "    <tr style=\"text-align: right;\">\n",
       "      <th></th>\n",
       "      <th>effective_time</th>\n",
       "      <th>openfda.generic_name</th>\n",
       "      <th>spl_product_data_elements</th>\n",
       "    </tr>\n",
       "  </thead>\n",
       "  <tbody>\n",
       "    <tr>\n",
       "      <th>0</th>\n",
       "      <td>2009</td>\n",
       "      <td>BICALUTAMIDE, OMEPRAZOLE, FELODIPINE</td>\n",
       "      <td>Bicalutamide Bicalutamide BICALUTAMIDE BICALUT...</td>\n",
       "    </tr>\n",
       "    <tr>\n",
       "      <th>1</th>\n",
       "      <td>2010</td>\n",
       "      <td>ZAFIRLUKAST, LIDOCAINE HYDROCHLORIDE</td>\n",
       "      <td>ACCOLATE Zafirlukast ZAFIRLUKAST ZAFIRLUKAST C...</td>\n",
       "    </tr>\n",
       "    <tr>\n",
       "      <th>2</th>\n",
       "      <td>2011</td>\n",
       "      <td>BUDESONIDE</td>\n",
       "      <td>PULMICORTFLEXHALER Budesonide BUDESONIDE BUDES...</td>\n",
       "    </tr>\n",
       "    <tr>\n",
       "      <th>3</th>\n",
       "      <td>2013</td>\n",
       "      <td>CANDESARTAN CILEXETIL AND HYDROCHLOROTHIAZIDE,...</td>\n",
       "      <td>ATACAND HCT Candesartan cilexetil and Hydrochl...</td>\n",
       "    </tr>\n",
       "    <tr>\n",
       "      <th>4</th>\n",
       "      <td>2014</td>\n",
       "      <td>ROSUVASTATIN CALCIUM</td>\n",
       "      <td>CRESTOR Rosuvastatin calcium ROSUVASTATIN CALC...</td>\n",
       "    </tr>\n",
       "    <tr>\n",
       "      <th>5</th>\n",
       "      <td>2015</td>\n",
       "      <td>TAMOXIFEN CITRATE</td>\n",
       "      <td>Tamoxifen Citrate Tamoxifen Citrate TAMOXIFEN ...</td>\n",
       "    </tr>\n",
       "    <tr>\n",
       "      <th>6</th>\n",
       "      <td>2016</td>\n",
       "      <td>CANDESARTAN CILEXETIL, PRAMLINTIDE ACETATE, ME...</td>\n",
       "      <td>Candesartan cilexetil Candesartan cilexetil CA...</td>\n",
       "    </tr>\n",
       "    <tr>\n",
       "      <th>7</th>\n",
       "      <td>2017</td>\n",
       "      <td>ANASTROZOLE, CLOPIDOGREL KIT, PRILOCAINE HYDRO...</td>\n",
       "      <td>Anastrozole Anastrozole ANASTROZOLE ANASTROZOL...</td>\n",
       "    </tr>\n",
       "    <tr>\n",
       "      <th>8</th>\n",
       "      <td>2018</td>\n",
       "      <td>DAPAGLIFLOZIN, CLOPIDOGREL, QUETIAPINE FUMARAT...</td>\n",
       "      <td>FARXIGA DAPAGLIFLOZIN DAPAGLIFLOZIN PROPANEDIO...</td>\n",
       "    </tr>\n",
       "    <tr>\n",
       "      <th>9</th>\n",
       "      <td>2019</td>\n",
       "      <td>CICLESONIDE, FLUCONAZOLE, EXENATIDE, DAPAGLIFL...</td>\n",
       "      <td>Omnaris ciclesonide CICLESONIDE CICLESONIDE MI...</td>\n",
       "    </tr>\n",
       "  </tbody>\n",
       "</table>\n",
       "</div>"
      ],
      "text/plain": [
       "  effective_time                               openfda.generic_name  \\\n",
       "0           2009               BICALUTAMIDE, OMEPRAZOLE, FELODIPINE   \n",
       "1           2010               ZAFIRLUKAST, LIDOCAINE HYDROCHLORIDE   \n",
       "2           2011                                         BUDESONIDE   \n",
       "3           2013  CANDESARTAN CILEXETIL AND HYDROCHLOROTHIAZIDE,...   \n",
       "4           2014                               ROSUVASTATIN CALCIUM   \n",
       "5           2015                                  TAMOXIFEN CITRATE   \n",
       "6           2016  CANDESARTAN CILEXETIL, PRAMLINTIDE ACETATE, ME...   \n",
       "7           2017  ANASTROZOLE, CLOPIDOGREL KIT, PRILOCAINE HYDRO...   \n",
       "8           2018  DAPAGLIFLOZIN, CLOPIDOGREL, QUETIAPINE FUMARAT...   \n",
       "9           2019  CICLESONIDE, FLUCONAZOLE, EXENATIDE, DAPAGLIFL...   \n",
       "\n",
       "                           spl_product_data_elements  \n",
       "0  Bicalutamide Bicalutamide BICALUTAMIDE BICALUT...  \n",
       "1  ACCOLATE Zafirlukast ZAFIRLUKAST ZAFIRLUKAST C...  \n",
       "2  PULMICORTFLEXHALER Budesonide BUDESONIDE BUDES...  \n",
       "3  ATACAND HCT Candesartan cilexetil and Hydrochl...  \n",
       "4  CRESTOR Rosuvastatin calcium ROSUVASTATIN CALC...  \n",
       "5  Tamoxifen Citrate Tamoxifen Citrate TAMOXIFEN ...  \n",
       "6  Candesartan cilexetil Candesartan cilexetil CA...  \n",
       "7  Anastrozole Anastrozole ANASTROZOLE ANASTROZOL...  \n",
       "8  FARXIGA DAPAGLIFLOZIN DAPAGLIFLOZIN PROPANEDIO...  \n",
       "9  Omnaris ciclesonide CICLESONIDE CICLESONIDE MI...  "
      ]
     },
     "execution_count": 9,
     "metadata": {},
     "output_type": "execute_result"
    }
   ],
   "source": [
    "df = df.groupby('effective_time').agg({'openfda.generic_name':lambda x: ', '.join(x), \n",
    "                         'spl_product_data_elements':lambda x: ', '.join(x)}).reset_index()\n",
    "df"
   ]
  },
  {
   "cell_type": "markdown",
   "metadata": {},
   "source": [
    "In the coding exercise, the format is specified to start with 2018 which I assume means 2019 shouldn't be included and that the df should be sorted newest to oldest. Easiest way to remove 2019 from the df above is by its index, then sort the remaining df."
   ]
  },
  {
   "cell_type": "code",
   "execution_count": 10,
   "metadata": {},
   "outputs": [],
   "source": [
    "df = df.drop(df.index[9]) #dropping 2019 by its index 9"
   ]
  },
  {
   "cell_type": "code",
   "execution_count": 11,
   "metadata": {},
   "outputs": [
    {
     "data": {
      "text/plain": [
       "effective_time                int64\n",
       "openfda.generic_name         object\n",
       "spl_product_data_elements    object\n",
       "dtype: object"
      ]
     },
     "execution_count": 11,
     "metadata": {},
     "output_type": "execute_result"
    }
   ],
   "source": [
    "df['effective_time'] = df['effective_time'].apply(pd.to_numeric) #need years to be numeric for sorting\n",
    "df.dtypes #checking effective_time was transformed to int"
   ]
  },
  {
   "cell_type": "code",
   "execution_count": 12,
   "metadata": {},
   "outputs": [
    {
     "data": {
      "text/html": [
       "<div>\n",
       "<style scoped>\n",
       "    .dataframe tbody tr th:only-of-type {\n",
       "        vertical-align: middle;\n",
       "    }\n",
       "\n",
       "    .dataframe tbody tr th {\n",
       "        vertical-align: top;\n",
       "    }\n",
       "\n",
       "    .dataframe thead th {\n",
       "        text-align: right;\n",
       "    }\n",
       "</style>\n",
       "<table border=\"1\" class=\"dataframe\">\n",
       "  <thead>\n",
       "    <tr style=\"text-align: right;\">\n",
       "      <th></th>\n",
       "      <th>index</th>\n",
       "      <th>effective_time</th>\n",
       "      <th>openfda.generic_name</th>\n",
       "      <th>spl_product_data_elements</th>\n",
       "    </tr>\n",
       "  </thead>\n",
       "  <tbody>\n",
       "    <tr>\n",
       "      <th>0</th>\n",
       "      <td>8</td>\n",
       "      <td>2018</td>\n",
       "      <td>DAPAGLIFLOZIN, CLOPIDOGREL, QUETIAPINE FUMARAT...</td>\n",
       "      <td>FARXIGA DAPAGLIFLOZIN DAPAGLIFLOZIN PROPANEDIO...</td>\n",
       "    </tr>\n",
       "    <tr>\n",
       "      <th>1</th>\n",
       "      <td>7</td>\n",
       "      <td>2017</td>\n",
       "      <td>ANASTROZOLE, CLOPIDOGREL KIT, PRILOCAINE HYDRO...</td>\n",
       "      <td>Anastrozole Anastrozole ANASTROZOLE ANASTROZOL...</td>\n",
       "    </tr>\n",
       "    <tr>\n",
       "      <th>2</th>\n",
       "      <td>6</td>\n",
       "      <td>2016</td>\n",
       "      <td>CANDESARTAN CILEXETIL, PRAMLINTIDE ACETATE, ME...</td>\n",
       "      <td>Candesartan cilexetil Candesartan cilexetil CA...</td>\n",
       "    </tr>\n",
       "    <tr>\n",
       "      <th>3</th>\n",
       "      <td>5</td>\n",
       "      <td>2015</td>\n",
       "      <td>TAMOXIFEN CITRATE</td>\n",
       "      <td>Tamoxifen Citrate Tamoxifen Citrate TAMOXIFEN ...</td>\n",
       "    </tr>\n",
       "    <tr>\n",
       "      <th>4</th>\n",
       "      <td>4</td>\n",
       "      <td>2014</td>\n",
       "      <td>ROSUVASTATIN CALCIUM</td>\n",
       "      <td>CRESTOR Rosuvastatin calcium ROSUVASTATIN CALC...</td>\n",
       "    </tr>\n",
       "    <tr>\n",
       "      <th>5</th>\n",
       "      <td>3</td>\n",
       "      <td>2013</td>\n",
       "      <td>CANDESARTAN CILEXETIL AND HYDROCHLOROTHIAZIDE,...</td>\n",
       "      <td>ATACAND HCT Candesartan cilexetil and Hydrochl...</td>\n",
       "    </tr>\n",
       "    <tr>\n",
       "      <th>6</th>\n",
       "      <td>2</td>\n",
       "      <td>2011</td>\n",
       "      <td>BUDESONIDE</td>\n",
       "      <td>PULMICORTFLEXHALER Budesonide BUDESONIDE BUDES...</td>\n",
       "    </tr>\n",
       "    <tr>\n",
       "      <th>7</th>\n",
       "      <td>1</td>\n",
       "      <td>2010</td>\n",
       "      <td>ZAFIRLUKAST, LIDOCAINE HYDROCHLORIDE</td>\n",
       "      <td>ACCOLATE Zafirlukast ZAFIRLUKAST ZAFIRLUKAST C...</td>\n",
       "    </tr>\n",
       "    <tr>\n",
       "      <th>8</th>\n",
       "      <td>0</td>\n",
       "      <td>2009</td>\n",
       "      <td>BICALUTAMIDE, OMEPRAZOLE, FELODIPINE</td>\n",
       "      <td>Bicalutamide Bicalutamide BICALUTAMIDE BICALUT...</td>\n",
       "    </tr>\n",
       "  </tbody>\n",
       "</table>\n",
       "</div>"
      ],
      "text/plain": [
       "   index  effective_time                               openfda.generic_name  \\\n",
       "0      8            2018  DAPAGLIFLOZIN, CLOPIDOGREL, QUETIAPINE FUMARAT...   \n",
       "1      7            2017  ANASTROZOLE, CLOPIDOGREL KIT, PRILOCAINE HYDRO...   \n",
       "2      6            2016  CANDESARTAN CILEXETIL, PRAMLINTIDE ACETATE, ME...   \n",
       "3      5            2015                                  TAMOXIFEN CITRATE   \n",
       "4      4            2014                               ROSUVASTATIN CALCIUM   \n",
       "5      3            2013  CANDESARTAN CILEXETIL AND HYDROCHLOROTHIAZIDE,...   \n",
       "6      2            2011                                         BUDESONIDE   \n",
       "7      1            2010               ZAFIRLUKAST, LIDOCAINE HYDROCHLORIDE   \n",
       "8      0            2009               BICALUTAMIDE, OMEPRAZOLE, FELODIPINE   \n",
       "\n",
       "                           spl_product_data_elements  \n",
       "0  FARXIGA DAPAGLIFLOZIN DAPAGLIFLOZIN PROPANEDIO...  \n",
       "1  Anastrozole Anastrozole ANASTROZOLE ANASTROZOL...  \n",
       "2  Candesartan cilexetil Candesartan cilexetil CA...  \n",
       "3  Tamoxifen Citrate Tamoxifen Citrate TAMOXIFEN ...  \n",
       "4  CRESTOR Rosuvastatin calcium ROSUVASTATIN CALC...  \n",
       "5  ATACAND HCT Candesartan cilexetil and Hydrochl...  \n",
       "6  PULMICORTFLEXHALER Budesonide BUDESONIDE BUDES...  \n",
       "7  ACCOLATE Zafirlukast ZAFIRLUKAST ZAFIRLUKAST C...  \n",
       "8  Bicalutamide Bicalutamide BICALUTAMIDE BICALUT...  "
      ]
     },
     "execution_count": 12,
     "metadata": {},
     "output_type": "execute_result"
    }
   ],
   "source": [
    "df = df.sort_values(by=['effective_time'],ascending=False).reset_index() #sorting by effective_time, descending\n",
    "df"
   ]
  },
  {
   "cell_type": "markdown",
   "metadata": {},
   "source": [
    "Now comes the tricky part. Original plan was to use the api itself to count exact drugnames in spl_product_data_elements and then average them per year. I managed to get https://api.fda.gov/drug/label.json?search=effective_time:[20180101+TO+20181231]+AND+openfda.brand_name=AstraZeneca+AND+_exists_:openfda.generic_name&count=spl_product_data_elements to work, but it's useless since it counts every word in the drugname as a separate drug.\n",
    "For some reason, https://api.fda.gov/drug/label.json?search=effective_time:[20180101+TO+20181231]+AND+openfda.brand_name=AstraZeneca+AND+_exists_:openfda.generic_name&count=spl_product_data_elements.exact doesn't yeald any results.\n",
    "\n",
    "I'll have to find some other logic in spl_product_data_elements to count the average number of ingredients. Quick look at some of the values in spl_product_data_elements:"
   ]
  },
  {
   "cell_type": "code",
   "execution_count": 13,
   "metadata": {},
   "outputs": [
    {
     "data": {
      "text/plain": [
       "'ATACAND HCT Candesartan cilexetil and Hydrochlorothiazide CANDESARTAN CILEXETIL CANDESARTAN HYDROCHLOROTHIAZIDE HYDROCHLOROTHIAZIDE CARBOXYMETHYLCELLULOSE CALCIUM HYDROXYPROPYL CELLULOSE LACTOSE MONOHYDRATE MAGNESIUM STEARATE STARCH, CORN POLYETHYLENE GLYCOL 8000 FERRIC OXIDE YELLOW biconvex ACJ;322, Cilostazol Cilostazol CILOSTAZOL CILOSTAZOL SILICON DIOXIDE CROSPOVIDONE MAGNESIUM STEARATE CELLULOSE, MICROCRYSTALLINE POVIDONES STARCH, CORN white to off-white TEVA;7231'"
      ]
     },
     "execution_count": 13,
     "metadata": {},
     "output_type": "execute_result"
    }
   ],
   "source": [
    "df['spl_product_data_elements'][5]"
   ]
  },
  {
   "cell_type": "code",
   "execution_count": 14,
   "metadata": {},
   "outputs": [
    {
     "data": {
      "text/plain": [
       "'Candesartan cilexetil Candesartan cilexetil CANDESARTAN CILEXETIL CANDESARTAN POLYETHYLENE GLYCOL, UNSPECIFIED HYDROXYPROPYL CELLULOSE (1600000 WAMW) LACTOSE MONOHYDRATE STARCH, CORN CARBOXYMETHYLCELLULOSE CALCIUM MAGNESIUM STEARATE FERRIC OXIDE RED white to off-white circular biconvex shaped ACF;004 Candesartan cilexetil Candesartan cilexetil CANDESARTAN CILEXETIL CANDESARTAN POLYETHYLENE GLYCOL, UNSPECIFIED HYDROXYPROPYL CELLULOSE (1600000 WAMW) LACTOSE MONOHYDRATE STARCH, CORN CARBOXYMETHYLCELLULOSE CALCIUM MAGNESIUM STEARATE FERRIC OXIDE RED light pink circular biconvex-sharped ACG;008 Candesartan cilexetil Candesartan cilexetil CANDESARTAN CILEXETIL CANDESARTAN POLYETHYLENE GLYCOL, UNSPECIFIED HYDROXYPROPYL CELLULOSE (1600000 WAMW) LACTOSE MONOHYDRATE STARCH, CORN CARBOXYMETHYLCELLULOSE CALCIUM MAGNESIUM STEARATE FERRIC OXIDE RED circular biconvex shaped ACH;016 Candesartan cilexetil Candesartan cilexetil CANDESARTAN CILEXETIL CANDESARTAN POLYETHYLENE GLYCOL, UNSPECIFIED HYDROXYPROPYL CELLULOSE (1600000 WAMW) LACTOSE MONOHYDRATE STARCH, CORN CARBOXYMETHYLCELLULOSE CALCIUM MAGNESIUM STEARATE FERRIC OXIDE RED circular; biconvex-shaped ACL;032, SymlinPen pramlintide acetate pramlintide acetate pramlintide metacresol mannitol acetic acid sodium acetate water SymlinPen pramlintide acetate pramlintide acetate pramlintide metacresol mannitol acetic acid sodium acetate water, Metoprolol Succinate ER Metoprolol Succinate ER METOPROLOL SUCCINATE METOPROLOL METOPROLOL TARTRATE CROSCARMELLOSE SODIUM HYDROXYPROPYL CELLULOSE (TYPE H) HYPROMELLOSES POLYETHYLENE GLYCOL 6000 SODIUM STEARYL FUMARATE TALC ACETYLTRIBUTYL CITRATE SILICON DIOXIDE CELLULOSE, MICROCRYSTALLINE TITANIUM DIOXIDE HYDROGENATED COTTONSEED OIL METHYLENE CHLORIDE ETHYLCELLULOSE (10 MPA.S) M;3, CAPRELSA Vandetanib VANDETANIB VANDETANIB CALCIUM PHOSPHATE, DIBASIC, DIHYDRATE CELLULOSE, MICROCRYSTALLINE CROSPOVIDONE (15 MPA.S AT 5%) POVIDONE, UNSPECIFIED MAGNESIUM STEARATE HYPROMELLOSES TITANIUM DIOXIDE WATER POLYETHYLENE GLYCOL 300 biconvex Z;100 CAPRELSA Vandetanib VANDETANIB VANDETANIB CALCIUM PHOSPHATE, DIBASIC, DIHYDRATE CELLULOSE, MICROCRYSTALLINE CROSPOVIDONE (15 MPA.S AT 5%) POVIDONE, UNSPECIFIED MAGNESIUM STEARATE HYPROMELLOSES TITANIUM DIOXIDE WATER POLYETHYLENE GLYCOL 300 biconvex Z;300, ZOLADEX Goserelin acetate GOSERELIN ACETATE GOSERELIN GLYCOLIC ACID LACTIC ACID, DL-, MOVANTIK naloxegol oxalate NALOXEGOL OXALATE NALOXEGOL MANNITOL CELLULOSE, MICROCRYSTALLINE CROSCARMELLOSE SODIUM MAGNESIUM STEARATE PROPYL GALLATE HYPROMELLOSES TITANIUM DIOXIDE POLYETHYLENE GLYCOL 400 FERRIC OXIDE RED FERROSOFERRIC OXIDE WATER mauve biconvex nGL;25, SYMBICORT Budesonide and Formoterol Fumarate Dihydrate BUDESONIDE BUDESONIDE FORMOTEROL FUMARATE FORMOTEROL FORMOTEROL FUMARATE ANHYDROUS POLYETHYLENE GLYCOL 1000 POVIDONE K25 APAFLURANE, PRILOSEC Omeprazole magnesium OMEPRAZOLE MAGNESIUM OMEPRAZOLE ANHYDROUS LACTOSE MANNITOL SODIUM LAURYL SULFATE GELATIN FD&C BLUE NO. 1 FD&C RED NO. 40 D&C RED NO. 28 TITANIUM DIOXIDE HYPROMELLOSES HYDROXYPROPYL CELLULOSE (TYPE H) FD&C BLUE NO. 2 FERROSOFERRIC OXIDE BUTYL ALCOHOL D&C RED NO. 7 D&C YELLOW NO. 10 apricot and amethyst opaque, hard gelatin 606;prilosec10 PRILOSEC Omeprazole magnesium OMEPRAZOLE MAGNESIUM OMEPRAZOLE HYPROMELLOSES ANHYDROUS LACTOSE MANNITOL SODIUM LAURYL SULFATE GELATIN FD&C BLUE NO. 1 FD&C RED NO. 40 D&C RED NO. 28 TITANIUM DIOXIDE BUTYL ALCOHOL FD&C BLUE NO. 2 D&C RED NO. 7 D&C YELLOW NO. 10 FERROSOFERRIC OXIDE HYDROXYPROPYL CELLULOSE (TYPE H) amethyst opaque, hard gelatin 742;prilosec20 PRILOSEC Omeprazole magnesium OMEPRAZOLE MAGNESIUM OMEPRAZOLE HYDROXYPROPYL CELLULOSE (TYPE H) HYPROMELLOSES ANHYDROUS LACTOSE MANNITOL SODIUM LAURYL SULFATE GELATIN FD&C BLUE NO. 1 FD&C BLUE NO. 2 D&C RED NO. 28 D&C YELLOW NO. 10 TITANIUM DIOXIDE BUTYL ALCOHOL D&C RED NO. 7 FD&C RED NO. 40 FERROSOFERRIC OXIDE apricot and amethyst opaque, hard gelatin 743;prilosec40 PRILOSEC Omeprazole magnesium OMEPRAZOLE MAGNESIUM OMEPRAZOLE GLYCERYL MONOSTEARATE HYDROXYPROPYL CELLULOSE (TYPE H) HYPROMELLOSES MAGNESIUM STEARATE METHACRYLIC ACID POLYSORBATE 80 SODIUM HYDROXIDE TALC TRIETHYL CITRATE XANTHAN GUM ANHYDROUS CITRIC ACID ANHYDROUS DEXTROSE ALCOHOL PRILOSEC Omeprazole magnesium OMEPRAZOLE MAGNESIUM OMEPRAZOLE HYDROXYPROPYL CELLULOSE (TYPE H) HYPROMELLOSES MAGNESIUM STEARATE TALC TRIETHYL CITRATE ANHYDROUS CITRIC ACID XANTHAN GUM ANHYDROUS DEXTROSE GLYCERYL MONOSTEARATE METHACRYLIC ACID POLYSORBATE 80 SODIUM HYDROXIDE ALCOHOL'"
      ]
     },
     "execution_count": 14,
     "metadata": {},
     "output_type": "execute_result"
    }
   ],
   "source": [
    "df['spl_product_data_elements'][2]"
   ]
  },
  {
   "cell_type": "markdown",
   "metadata": {},
   "source": [
    "It seems drug names are separated by commas (which goes nicely with the commas I joined the different strings with). Separating by commas will also help \"ignoring\" the duplicates that seem to be everywhere (Candesartan cilexetil Candesartan cilexetil CANDESARTAN CILEXETIL).\n",
    "\n",
    "There are problems with this approach; I see for instance that this string probably contains more than one drug:\"Omeprazole magnesium OMEPRAZOLE MAGNESIUM OMEPRAZOLE HYDROXYPROPYL CELLULOSE (TYPE H) HYPROMELLOSES MAGNESIUM STEARATE TALC TRIETHYL CITRATE ANHYDROUS CITRIC ACID XANTHAN GUM ANHYDROUS DEXTROSE GLYCERYL MONOSTEARATE METHACRYLIC ACID POLYSORBATE 80 SODIUM HYDROXIDE ALCOHOL\", which means my method is a quite inexact approximation. Not a perfect solution but it'll do. "
   ]
  },
  {
   "cell_type": "code",
   "execution_count": 15,
   "metadata": {},
   "outputs": [
    {
     "data": {
      "text/plain": [
       "[4, 2, 4, 5, 2, 2, 1, 1, 2]"
      ]
     },
     "execution_count": 15,
     "metadata": {},
     "output_type": "execute_result"
    }
   ],
   "source": [
    "#iterating through spl_product_data_elements, also have to count drugs per year to get the average\n",
    "avg = []\n",
    "for i in range(len(df['spl_product_data_elements'])):\n",
    "    ingredients = df['spl_product_data_elements'][i].count(',') + 1 #+1 because items are n+1 if commas separating items are n\n",
    "    drugs = df['openfda.generic_name'][i].count(',') + 1\n",
    "    avg.append(round(ingredients/drugs)) #choosing to round to closest int\n",
    "    \n",
    "avg #quick look at results"
   ]
  },
  {
   "cell_type": "markdown",
   "metadata": {},
   "source": [
    "The average number of ingredients seems way off. Could be improved by additional rules, for instance searching for '('; every time it appears the type/concentration of a certain drug is specified, presumably at the end of its name. Example: UNSPECIFIED HYDROXYPROPYL CELLULOSE (1600000 WAMW). Dots '.' also seem to appear when a certain type (or multiple types) of drug is listed. Example: SODIUM LAURYL SULFATE GELATIN FD&C BLUE NO. 1 FD&C BLUE NO. 2 D&C RED NO. 28. I'll add these rules to improve the result a little."
   ]
  },
  {
   "cell_type": "code",
   "execution_count": 16,
   "metadata": {},
   "outputs": [
    {
     "data": {
      "text/plain": [
       "[6, 4, 8, 5, 2, 2, 1, 1, 4]"
      ]
     },
     "execution_count": 16,
     "metadata": {},
     "output_type": "execute_result"
    }
   ],
   "source": [
    "avg = []\n",
    "for i in range(len(df['spl_product_data_elements'])):\n",
    "    ingredients = df['spl_product_data_elements'][i].count(',') +\\\n",
    "    df['spl_product_data_elements'][i].count('(') +\\\n",
    "    df['spl_product_data_elements'][i].count('.') + 1\n",
    "    drugs = df['openfda.generic_name'][i].count(',') + 1\n",
    "    avg.append(round(ingredients/drugs))\n",
    "    \n",
    "avg #quick look at results"
   ]
  },
  {
   "attachments": {},
   "cell_type": "markdown",
   "metadata": {},
   "source": [
    "Slightly better but probably still far from the real number.\n",
    "\n",
    "New approach: I assembled a list of the possible endings of the most common chemical names. These endings should only appear once per ingredient since chemicals are named based on a pattern. These were the endings I came up with:\n",
    "\t- ol\n",
    "\t- ole\n",
    "\t- ine\n",
    "\t- one\n",
    "\t- ide\n",
    "\t- ene\n",
    "\t- ate\n",
    "\t- acid\n",
    "    - phene\n",
    "    - ose\n",
    "The list probably doesn't cover it all but is still going to be a better approximation.\n"
   ]
  },
  {
   "cell_type": "code",
   "execution_count": 17,
   "metadata": {},
   "outputs": [
    {
     "data": {
      "text/plain": [
       "[20, 11, 21, 16, 5, 10, 3, 8, 18]"
      ]
     },
     "execution_count": 17,
     "metadata": {},
     "output_type": "execute_result"
    }
   ],
   "source": [
    "avg = []\n",
    "for i in range(len(df['spl_product_data_elements'])):\n",
    "     #.upper() to handle case-sensitivity of count()\n",
    "    ingredients = df['spl_product_data_elements'][i].upper().count('OL ') +\\\n",
    "    df['spl_product_data_elements'][i].upper().count('OLE ') +\\\n",
    "    df['spl_product_data_elements'][i].upper().count('INE ') +\\\n",
    "    df['spl_product_data_elements'][i].upper().count('ONE ') +\\\n",
    "    df['spl_product_data_elements'][i].upper().count('IDE ') +\\\n",
    "    df['spl_product_data_elements'][i].upper().count('ENE ') +\\\n",
    "    df['spl_product_data_elements'][i].upper().count('ATE ') +\\\n",
    "    df['spl_product_data_elements'][i].upper().count('ACID ') +\\\n",
    "    df['spl_product_data_elements'][i].upper().count('PHENE ') +\\\n",
    "    df['spl_product_data_elements'][i].upper().count('OSE ')\n",
    "    drugs = df['openfda.generic_name'][i].count(',') + 1\n",
    "    avg.append(round(ingredients/drugs))\n",
    "    \n",
    "avg #quick look at results"
   ]
  },
  {
   "cell_type": "code",
   "execution_count": 18,
   "metadata": {},
   "outputs": [
    {
     "data": {
      "text/html": [
       "<div>\n",
       "<style scoped>\n",
       "    .dataframe tbody tr th:only-of-type {\n",
       "        vertical-align: middle;\n",
       "    }\n",
       "\n",
       "    .dataframe tbody tr th {\n",
       "        vertical-align: top;\n",
       "    }\n",
       "\n",
       "    .dataframe thead th {\n",
       "        text-align: right;\n",
       "    }\n",
       "</style>\n",
       "<table border=\"1\" class=\"dataframe\">\n",
       "  <thead>\n",
       "    <tr style=\"text-align: right;\">\n",
       "      <th></th>\n",
       "      <th>year</th>\n",
       "      <th>drug_names</th>\n",
       "      <th>avg_number_of_ingredients</th>\n",
       "    </tr>\n",
       "  </thead>\n",
       "  <tbody>\n",
       "    <tr>\n",
       "      <th>0</th>\n",
       "      <td>2018</td>\n",
       "      <td>DAPAGLIFLOZIN, CLOPIDOGREL, QUETIAPINE FUMARAT...</td>\n",
       "      <td>20</td>\n",
       "    </tr>\n",
       "    <tr>\n",
       "      <th>1</th>\n",
       "      <td>2017</td>\n",
       "      <td>ANASTROZOLE, CLOPIDOGREL KIT, PRILOCAINE HYDRO...</td>\n",
       "      <td>11</td>\n",
       "    </tr>\n",
       "    <tr>\n",
       "      <th>2</th>\n",
       "      <td>2016</td>\n",
       "      <td>CANDESARTAN CILEXETIL, PRAMLINTIDE ACETATE, ME...</td>\n",
       "      <td>21</td>\n",
       "    </tr>\n",
       "    <tr>\n",
       "      <th>3</th>\n",
       "      <td>2015</td>\n",
       "      <td>TAMOXIFEN CITRATE</td>\n",
       "      <td>16</td>\n",
       "    </tr>\n",
       "    <tr>\n",
       "      <th>4</th>\n",
       "      <td>2014</td>\n",
       "      <td>ROSUVASTATIN CALCIUM</td>\n",
       "      <td>5</td>\n",
       "    </tr>\n",
       "    <tr>\n",
       "      <th>5</th>\n",
       "      <td>2013</td>\n",
       "      <td>CANDESARTAN CILEXETIL AND HYDROCHLOROTHIAZIDE,...</td>\n",
       "      <td>10</td>\n",
       "    </tr>\n",
       "    <tr>\n",
       "      <th>6</th>\n",
       "      <td>2011</td>\n",
       "      <td>BUDESONIDE</td>\n",
       "      <td>3</td>\n",
       "    </tr>\n",
       "    <tr>\n",
       "      <th>7</th>\n",
       "      <td>2010</td>\n",
       "      <td>ZAFIRLUKAST, LIDOCAINE HYDROCHLORIDE</td>\n",
       "      <td>8</td>\n",
       "    </tr>\n",
       "    <tr>\n",
       "      <th>8</th>\n",
       "      <td>2009</td>\n",
       "      <td>BICALUTAMIDE, OMEPRAZOLE, FELODIPINE</td>\n",
       "      <td>18</td>\n",
       "    </tr>\n",
       "  </tbody>\n",
       "</table>\n",
       "</div>"
      ],
      "text/plain": [
       "   year                                         drug_names  \\\n",
       "0  2018  DAPAGLIFLOZIN, CLOPIDOGREL, QUETIAPINE FUMARAT...   \n",
       "1  2017  ANASTROZOLE, CLOPIDOGREL KIT, PRILOCAINE HYDRO...   \n",
       "2  2016  CANDESARTAN CILEXETIL, PRAMLINTIDE ACETATE, ME...   \n",
       "3  2015                                  TAMOXIFEN CITRATE   \n",
       "4  2014                               ROSUVASTATIN CALCIUM   \n",
       "5  2013  CANDESARTAN CILEXETIL AND HYDROCHLOROTHIAZIDE,...   \n",
       "6  2011                                         BUDESONIDE   \n",
       "7  2010               ZAFIRLUKAST, LIDOCAINE HYDROCHLORIDE   \n",
       "8  2009               BICALUTAMIDE, OMEPRAZOLE, FELODIPINE   \n",
       "\n",
       "   avg_number_of_ingredients  \n",
       "0                         20  \n",
       "1                         11  \n",
       "2                         21  \n",
       "3                         16  \n",
       "4                          5  \n",
       "5                         10  \n",
       "6                          3  \n",
       "7                          8  \n",
       "8                         18  "
      ]
     },
     "execution_count": 18,
     "metadata": {},
     "output_type": "execute_result"
    }
   ],
   "source": [
    "final_results = pd.DataFrame({\n",
    "    'year': df['effective_time'],\n",
    "    'drug_names': df['openfda.generic_name'],\n",
    "    'avg_number_of_ingredients': avg\n",
    "})\n",
    "final_results"
   ]
  },
  {
   "cell_type": "markdown",
   "metadata": {},
   "source": [
    "My final answer to Assignment A is displayed above. "
   ]
  },
  {
   "cell_type": "markdown",
   "metadata": {},
   "source": [
    "## Assignment B - Same as Above, Split by Delivery Route\n",
    "The time is up by now, but I'd do the following query: \n",
    "https://api.fda.gov/drug/label.json?search=openfda.brand_name=AstraZeneca+AND+_exists_:openfda.generic_name+AND+_exists_:openfda.route&limit=99\n",
    "Then split by route.\n"
   ]
  },
  {
   "cell_type": "code",
   "execution_count": null,
   "metadata": {},
   "outputs": [],
   "source": []
  }
 ],
 "metadata": {
  "kernelspec": {
   "display_name": "Python 3",
   "language": "python",
   "name": "python3"
  },
  "language_info": {
   "codemirror_mode": {
    "name": "ipython",
    "version": 3
   },
   "file_extension": ".py",
   "mimetype": "text/x-python",
   "name": "python",
   "nbconvert_exporter": "python",
   "pygments_lexer": "ipython3",
   "version": "3.7.0"
  }
 },
 "nbformat": 4,
 "nbformat_minor": 2
}
